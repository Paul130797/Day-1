{
 "cells": [
  {
   "cell_type": "code",
   "execution_count": null,
   "id": "a9427c73",
   "metadata": {},
   "outputs": [],
   "source": [
    "import pandas as pd\n"
   ]
  },
  {
   "cell_type": "code",
   "execution_count": null,
   "id": "ff0b814a",
   "metadata": {},
   "outputs": [],
   "source": [
    "df=pd.read_csv (\"Customer_Personality_Analysis.csv\")\n"
   ]
  },
  {
   "cell_type": "code",
   "execution_count": null,
   "id": "ffe31966",
   "metadata": {},
   "outputs": [],
   "source": [
    "df.head()\n",
    "df.info()   \n",
    "df.describe()"
   ]
  },
  {
   "cell_type": "code",
   "execution_count": null,
   "id": "3e8cf690",
   "metadata": {},
   "outputs": [],
   "source": [
    "# Check missing values\n",
    "df.isnull().sum()\n",
    "\n",
    "# Option 1: Drop rows with missing values\n",
    "df = df.dropna()\n",
    "\n",
    "# OR Option 2: Fill with mean/median/mode\n",
    "# df['Income'].fillna(df['Income'].mean(), inplace=True)\n"
   ]
  },
  {
   "cell_type": "code",
   "execution_count": null,
   "id": "8f9dfec1",
   "metadata": {},
   "outputs": [],
   "source": [
    "Remove duplicates\n",
    "df = df.drop_duplicates()\n"
   ]
  },
  {
   "cell_type": "code",
   "execution_count": null,
   "id": "0e0584f7",
   "metadata": {},
   "outputs": [],
   "source": [
    "Standardize Text values \n",
    "# Example: Gender column (assuming 'M', 'Male', 'F', 'Female')\n",
    "df['Gender'] = df['Gender'].str.strip().str.lower().replace({'male': 'm', 'female': 'f'})\n"
   ]
  },
  {
   "cell_type": "code",
   "execution_count": null,
   "id": "45dff0a5",
   "metadata": {},
   "outputs": [],
   "source": [
    "Convert data formats\n",
    "df['Dt_Customer'] = pd.to_datetime(df['Dt_Customer'], format='%d-%m-%Y')\n"
   ]
  },
  {
   "cell_type": "code",
   "execution_count": null,
   "id": "8d97d7cd",
   "metadata": {},
   "outputs": [],
   "source": [
    "Rename columns\n",
    "df.columns = df.columns.str.lower().str.replace(' ', '_')\n"
   ]
  },
  {
   "cell_type": "code",
   "execution_count": null,
   "id": "43a0f23b",
   "metadata": {},
   "outputs": [],
   "source": [
    "Fix data types\n",
    "df['age'] = df['age'].astype(int)\n"
   ]
  }
 ],
 "metadata": {
  "kernelspec": {
   "display_name": "base",
   "language": "python",
   "name": "python3"
  },
  "language_info": {
   "codemirror_mode": {
    "name": "ipython",
    "version": 3
   },
   "file_extension": ".py",
   "mimetype": "text/x-python",
   "name": "python",
   "nbconvert_exporter": "python",
   "pygments_lexer": "ipython3",
   "version": "3.12.7"
  }
 },
 "nbformat": 4,
 "nbformat_minor": 5
}
